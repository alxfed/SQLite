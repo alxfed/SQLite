{
 "cells": [
  {
   "cell_type": "markdown",
   "metadata": {},
   "source": [
    "# Julia and SQLite\n",
    "\n",
    "This a short experiment based on the materials:\n",
    "- https://github.com/JuliaDB/SQLite.jl\n",
    "- https://statcompute.wordpress.com/2014/02/08/julia-and-sqlite/\n",
    "- https://julialang.org/blog/2015/10/datastreams"
   ]
  },
  {
   "cell_type": "code",
   "execution_count": 4,
   "metadata": {},
   "outputs": [
    {
     "name": "stderr",
     "output_type": "stream",
     "text": [
      "WARNING: Method definition ==(Base.Nullable{S}, Base.Nullable{T}) in module Base at nullable.jl:238 overwritten in module NullableArrays at C:\\\\\\\\\\\\\\\\\\\\\\\\\\\\\\\\\\\\\\\\\\\\\\\\\\\\\\\\\\\\\\\\\\\\\\\\\\\\\\\\\\\\\\\\\\\\\\\\\\\\\\\\\\\\\\\\Users\\Alex\\AppData\\Local\\JuliaPro-0.6.0.1\\pkgs-0.6.0.1\\v0.6\\NullableArrays\\src\\operators.jl:128.\n"
     ]
    },
    {
     "ename": "LoadError",
     "evalue": "\u001b[91mconnect: socket operation on non-socket (ENOTSOCK)\u001b[39m",
     "output_type": "error",
     "traceback": [
      "\u001b[91mconnect: socket operation on non-socket (ENOTSOCK)\u001b[39m",
      "",
      "Stacktrace:",
      " [1] \u001b[1mtry_yieldto\u001b[22m\u001b[22m\u001b[1m(\u001b[22m\u001b[22m::Base.##296#297{Task}, ::Task\u001b[1m)\u001b[22m\u001b[22m at \u001b[1m.\\event.jl:189\u001b[22m\u001b[22m",
      " [2] \u001b[1mwait\u001b[22m\u001b[22m\u001b[1m(\u001b[22m\u001b[22m\u001b[1m)\u001b[22m\u001b[22m at \u001b[1m.\\event.jl:234\u001b[22m\u001b[22m",
      " [3] \u001b[1mwait\u001b[22m\u001b[22m\u001b[1m(\u001b[22m\u001b[22m::Condition\u001b[1m)\u001b[22m\u001b[22m at \u001b[1m.\\event.jl:27\u001b[22m\u001b[22m",
      " [4] \u001b[1mstream_wait\u001b[22m\u001b[22m\u001b[1m(\u001b[22m\u001b[22m::Base.PipeEndpoint, ::Condition, ::Vararg{Condition,N} where N\u001b[1m)\u001b[22m\u001b[22m at \u001b[1m.\\stream.jl:42\u001b[22m\u001b[22m",
      " [5] \u001b[1mwait_connected\u001b[22m\u001b[22m\u001b[1m(\u001b[22m\u001b[22m::Base.PipeEndpoint\u001b[1m)\u001b[22m\u001b[22m at \u001b[1m.\\stream.jl:258\u001b[22m\u001b[22m",
      " [6] \u001b[1mconnect\u001b[22m\u001b[22m at \u001b[1m.\\stream.jl:983\u001b[22m\u001b[22m [inlined]",
      " [7] \u001b[1mconnect\u001b[22m\u001b[22m\u001b[1m(\u001b[22m\u001b[22m::String\u001b[1m)\u001b[22m\u001b[22m at \u001b[1m.\\stream.jl:995\u001b[22m\u001b[22m"
     ]
    }
   ],
   "source": [
    "# Load silently the SQLite package\n",
    "#Pkg.add(\"SQLite\") \n",
    "using SQLite\n",
    " \n",
    "# CONNECT TO THE existing SQLite database \n",
    " \n",
    "db = SQLite.connect(\"F:/sqlite_databases/dabase.sqlite\")\n",
    " \n",
    "# SHOW TABLES IN THE DB \n",
    " \n",
    "query(\"SELECT name FROM sqlite_master WHERE type = 'table'\")\n",
    " \n",
    "# PULL DATA FROM THE TABLE\n",
    "# THE DATA WOULD BE AUTOMATICALLY SAVED AS A DATAFRAME\n",
    " \n",
    "df1 = query(\"SELECT * from stocks\");\n",
    " \n",
    "head(df1, 2)"
   ]
  },
  {
   "cell_type": "markdown",
   "metadata": {},
   "source": [
    "On first use do Pkg.add in advance, then  using will be enough."
   ]
  },
  {
   "cell_type": "code",
   "execution_count": null,
   "metadata": {
    "collapsed": true
   },
   "outputs": [],
   "source": [
    "# SELECT DATA FROM THE TABLE WITH SQLDF() FUNCTION \n",
    " \n",
    "df2 = sqldf(\"select * from df1 where AGE between 25 and 30\");\n",
    " \n",
    "# SUMMARIZE DATA WITH SQLDF() FUNCTION \n",
    " \n",
    "df3 = sqldf(\"select age, avg(LEV_LT3) as avg_lev from df2 group by age\")"
   ]
  }
 ],
 "metadata": {
  "kernelspec": {
   "display_name": "Julia 0.6.0",
   "language": "julia",
   "name": "julia-0.6"
  },
  "language_info": {
   "file_extension": ".jl",
   "mimetype": "application/julia",
   "name": "julia",
   "version": "0.6.0"
  }
 },
 "nbformat": 4,
 "nbformat_minor": 2
}
