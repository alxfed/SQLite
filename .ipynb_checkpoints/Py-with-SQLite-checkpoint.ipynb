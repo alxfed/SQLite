{
 "cells": [
  {
   "cell_type": "markdown",
   "metadata": {},
   "source": [
    "Work with SQLite in python\n",
    "\n",
    "The SQLite python library is located in sqlite3 library, that's why in order to open a database we need to load the library. The documentation is here: https://docs.python.org/3/library/sqlite3.html\n",
    "\n",
    "Opening a database that doesn't exist creates a new database file."
   ]
  },
  {
   "cell_type": "code",
   "execution_count": 5,
   "metadata": {
    "collapsed": true
   },
   "outputs": [],
   "source": [
    "import sqlite3      #loading the library\n",
    "\n",
    "db1conn = sqlite3.connect('F:/sqlite_databases/dabase.sqlite')"
   ]
  },
  {
   "cell_type": "markdown",
   "metadata": {},
   "source": [
    "0. Data Frames (pandas)\n",
    "\n",
    "We are interested in loading and storing data frames defined in pandas library more than in low level, thus, we need to load it."
   ]
  },
  {
   "cell_type": "code",
   "execution_count": 6,
   "metadata": {
    "collapsed": true
   },
   "outputs": [],
   "source": [
    "import pandas as pd   # load the library\n",
    "\n",
    "# build a query\n",
    "\n",
    "query = \"SELECT * FROM datable\""
   ]
  },
  {
   "cell_type": "code",
   "execution_count": 7,
   "metadata": {},
   "outputs": [
    {
     "data": {
      "text/html": [
       "<div>\n",
       "<style>\n",
       "    .dataframe thead tr:only-child th {\n",
       "        text-align: right;\n",
       "    }\n",
       "\n",
       "    .dataframe thead th {\n",
       "        text-align: left;\n",
       "    }\n",
       "\n",
       "    .dataframe tbody tr th {\n",
       "        vertical-align: top;\n",
       "    }\n",
       "</style>\n",
       "<table border=\"1\" class=\"dataframe\">\n",
       "  <thead>\n",
       "    <tr style=\"text-align: right;\">\n",
       "      <th></th>\n",
       "      <th>Station.Name</th>\n",
       "      <th>Measurement.Timestamp</th>\n",
       "      <th>Air.Temperature</th>\n",
       "      <th>Wet.Bulb.Temperature</th>\n",
       "      <th>Humidity</th>\n",
       "      <th>Rain.Intensity</th>\n",
       "      <th>Interval.Rain</th>\n",
       "      <th>Total.Rain</th>\n",
       "      <th>Precipitation.Type</th>\n",
       "      <th>Wind.Direction</th>\n",
       "      <th>Wind.Speed</th>\n",
       "      <th>Maximum.Wind.Speed</th>\n",
       "      <th>Barometric.Pressure</th>\n",
       "      <th>Solar.Radiation</th>\n",
       "      <th>Heading</th>\n",
       "      <th>Battery.Life</th>\n",
       "      <th>Measurement.Timestamp.Label</th>\n",
       "      <th>Measurement.ID</th>\n",
       "    </tr>\n",
       "  </thead>\n",
       "  <tbody>\n",
       "    <tr>\n",
       "      <th>0</th>\n",
       "      <td>Foster Weather Station</td>\n",
       "      <td>1.451714e+09</td>\n",
       "      <td>-1.56</td>\n",
       "      <td>None</td>\n",
       "      <td>62</td>\n",
       "      <td>None</td>\n",
       "      <td>0.0</td>\n",
       "      <td>None</td>\n",
       "      <td>None</td>\n",
       "      <td>269</td>\n",
       "      <td>2.1</td>\n",
       "      <td>3.0</td>\n",
       "      <td>995.9</td>\n",
       "      <td>0</td>\n",
       "      <td>None</td>\n",
       "      <td>15.2</td>\n",
       "      <td>01/02/2016 12:00 AM</td>\n",
       "      <td>FosterWeatherStation201601022400</td>\n",
       "    </tr>\n",
       "    <tr>\n",
       "      <th>1</th>\n",
       "      <td>Foster Weather Station</td>\n",
       "      <td>1.451718e+09</td>\n",
       "      <td>-2.28</td>\n",
       "      <td>None</td>\n",
       "      <td>63</td>\n",
       "      <td>None</td>\n",
       "      <td>0.0</td>\n",
       "      <td>None</td>\n",
       "      <td>None</td>\n",
       "      <td>282</td>\n",
       "      <td>2.4</td>\n",
       "      <td>2.6</td>\n",
       "      <td>995.6</td>\n",
       "      <td>0</td>\n",
       "      <td>None</td>\n",
       "      <td>15.2</td>\n",
       "      <td>01/02/2016 1:00 AM</td>\n",
       "      <td>FosterWeatherStation201601020100</td>\n",
       "    </tr>\n",
       "    <tr>\n",
       "      <th>2</th>\n",
       "      <td>Foster Weather Station</td>\n",
       "      <td>1.451722e+09</td>\n",
       "      <td>-2.89</td>\n",
       "      <td>None</td>\n",
       "      <td>65</td>\n",
       "      <td>None</td>\n",
       "      <td>0.0</td>\n",
       "      <td>None</td>\n",
       "      <td>None</td>\n",
       "      <td>262</td>\n",
       "      <td>4.0</td>\n",
       "      <td>4.7</td>\n",
       "      <td>996.3</td>\n",
       "      <td>0</td>\n",
       "      <td>None</td>\n",
       "      <td>14.8</td>\n",
       "      <td>01/02/2016 2:00 AM</td>\n",
       "      <td>FosterWeatherStation201601020200</td>\n",
       "    </tr>\n",
       "    <tr>\n",
       "      <th>3</th>\n",
       "      <td>Foster Weather Station</td>\n",
       "      <td>1.451725e+09</td>\n",
       "      <td>-3.06</td>\n",
       "      <td>None</td>\n",
       "      <td>64</td>\n",
       "      <td>None</td>\n",
       "      <td>0.0</td>\n",
       "      <td>None</td>\n",
       "      <td>None</td>\n",
       "      <td>278</td>\n",
       "      <td>2.3</td>\n",
       "      <td>3.2</td>\n",
       "      <td>995.9</td>\n",
       "      <td>0</td>\n",
       "      <td>None</td>\n",
       "      <td>14.8</td>\n",
       "      <td>01/02/2016 3:00 AM</td>\n",
       "      <td>FosterWeatherStation201601020300</td>\n",
       "    </tr>\n",
       "    <tr>\n",
       "      <th>4</th>\n",
       "      <td>Foster Weather Station</td>\n",
       "      <td>1.451729e+09</td>\n",
       "      <td>-3.17</td>\n",
       "      <td>None</td>\n",
       "      <td>64</td>\n",
       "      <td>None</td>\n",
       "      <td>0.0</td>\n",
       "      <td>None</td>\n",
       "      <td>None</td>\n",
       "      <td>304</td>\n",
       "      <td>2.2</td>\n",
       "      <td>2.5</td>\n",
       "      <td>995.9</td>\n",
       "      <td>0</td>\n",
       "      <td>None</td>\n",
       "      <td>15.2</td>\n",
       "      <td>01/02/2016 4:00 AM</td>\n",
       "      <td>FosterWeatherStation201601020400</td>\n",
       "    </tr>\n",
       "  </tbody>\n",
       "</table>\n",
       "</div>"
      ],
      "text/plain": [
       "             Station.Name  Measurement.Timestamp  Air.Temperature  \\\n",
       "0  Foster Weather Station           1.451714e+09            -1.56   \n",
       "1  Foster Weather Station           1.451718e+09            -2.28   \n",
       "2  Foster Weather Station           1.451722e+09            -2.89   \n",
       "3  Foster Weather Station           1.451725e+09            -3.06   \n",
       "4  Foster Weather Station           1.451729e+09            -3.17   \n",
       "\n",
       "  Wet.Bulb.Temperature  Humidity Rain.Intensity  Interval.Rain Total.Rain  \\\n",
       "0                 None        62           None            0.0       None   \n",
       "1                 None        63           None            0.0       None   \n",
       "2                 None        65           None            0.0       None   \n",
       "3                 None        64           None            0.0       None   \n",
       "4                 None        64           None            0.0       None   \n",
       "\n",
       "  Precipitation.Type  Wind.Direction  Wind.Speed  Maximum.Wind.Speed  \\\n",
       "0               None             269         2.1                 3.0   \n",
       "1               None             282         2.4                 2.6   \n",
       "2               None             262         4.0                 4.7   \n",
       "3               None             278         2.3                 3.2   \n",
       "4               None             304         2.2                 2.5   \n",
       "\n",
       "   Barometric.Pressure  Solar.Radiation Heading  Battery.Life  \\\n",
       "0                995.9                0    None          15.2   \n",
       "1                995.6                0    None          15.2   \n",
       "2                996.3                0    None          14.8   \n",
       "3                995.9                0    None          14.8   \n",
       "4                995.9                0    None          15.2   \n",
       "\n",
       "  Measurement.Timestamp.Label                    Measurement.ID  \n",
       "0         01/02/2016 12:00 AM  FosterWeatherStation201601022400  \n",
       "1          01/02/2016 1:00 AM  FosterWeatherStation201601020100  \n",
       "2          01/02/2016 2:00 AM  FosterWeatherStation201601020200  \n",
       "3          01/02/2016 3:00 AM  FosterWeatherStation201601020300  \n",
       "4          01/02/2016 4:00 AM  FosterWeatherStation201601020400  "
      ]
     },
     "execution_count": 7,
     "metadata": {},
     "output_type": "execute_result"
    }
   ],
   "source": [
    "# now read into a dataframe df\n",
    "\n",
    "df = pd.read_sql_query(query,db1conn)  # or pandas.read_sql (see below)\n",
    " \n",
    "df.head()   # see the result"
   ]
  },
  {
   "cell_type": "code",
   "execution_count": 9,
   "metadata": {
    "collapsed": true
   },
   "outputs": [],
   "source": [
    "db1conn.close()"
   ]
  },
  {
   "cell_type": "markdown",
   "metadata": {},
   "source": [
    "For more details of pandas interaction see the McKinney book pages 174-175.\n",
    "In particulare it mentions the following construct:\n",
    "\n",
    "import pandas.io.sql as sql #load and alias the library\n",
    "dataframe = sql.read_frame('select * from datable', db1conn)  #use the read_frame method\n",
    "\n",
    "We need to look further in pandas documentation http://pandas.pydata.org/pandas-docs/stable/\n",
    "\n",
    "In particular, in IO section: http://pandas.pydata.org/pandas-docs/stable/io.html\n",
    "we see the read_sql function and the corresponding to_sql method for a dataframe.\n",
    "The 'read_frame' is nowhere to be seen."
   ]
  },
  {
   "cell_type": "markdown",
   "metadata": {},
   "source": [
    "The description of pandas.io.sql is in this section:\n",
    "http://pandas.pydata.org/pandas-docs/stable/io.html#io-sql\n",
    "\n",
    "In particular it says that it's all in the read_sql_table, read_sql_query and read_sql functions now.\n",
    "\n",
    "The key functions are:\n",
    "\n",
    "read_sql_table(table_name, con[, schema, ...])\tRead SQL database table into a DataFrame.\n",
    "\n",
    "read_sql_query(sql, con[, index_col, ...])\tRead SQL query into a DataFrame.\n",
    "\n",
    "read_sql(sql, con[, index_col, ...])\tRead SQL query or database table into a DataFrame.\n",
    "\n",
    "DataFrame.to_sql(name, con[, flavor, ...])\tWrite records stored in a DataFrame to a SQL database.\n",
    "\n",
    "Note: The function read_sql() is a convenience wrapper around read_sql_table() and read_sql_query() (and for backward compatibility) and will delegate to specific function depending on the provided input (database table name or sql query). Table names do not need to be quoted if they have special characters."
   ]
  },
  {
   "cell_type": "markdown",
   "metadata": {},
   "source": [
    "And the documentation clearly pushes you one level up to the 'sqlalchemy' library, and the corresponding dialects of SQL\n",
    "http://docs.sqlalchemy.org/en/latest/dialects/index.html"
   ]
  },
  {
   "cell_type": "markdown",
   "metadata": {},
   "source": [
    "The whole higher level library story starts here: http://www.sqlalchemy.org/"
   ]
  },
  {
   "cell_type": "markdown",
   "metadata": {},
   "source": [
    "Writing pandas dataframe function is described here: http://pandas.pydata.org/pandas-docs/stable/generated/pandas.DataFrame.to_sql.html#pandas.DataFrame.to_sql"
   ]
  },
  {
   "cell_type": "markdown",
   "metadata": {
    "collapsed": true
   },
   "source": [
    "2 Creating a table"
   ]
  },
  {
   "cell_type": "code",
   "execution_count": 3,
   "metadata": {
    "collapsed": true
   },
   "outputs": [],
   "source": [
    "import sqlite3      #loading the library\n",
    "\n",
    "db1conn = sqlite3.connect('F:/sqlite_databases/dabase.sqlite') # establish a connection\n",
    "c = db1conn.cursor() # create a cursor\n",
    "\n",
    "c.execute('''CREATE TABLE stocks\n",
    "             (date text, trans text, symbol text, qty real, price real)''') #create table\n",
    "c.execute(\"INSERT INTO stocks VALUES ('2006-01-05','BUY','RHAT',100,35.14)\") #insert row\n",
    "\n",
    "db1conn.commit() # commit the changes to the connection\n",
    "\n",
    "db1conn.close() # close the connection"
   ]
  },
  {
   "cell_type": "markdown",
   "metadata": {},
   "source": [
    "Works perfectly well.\n",
    "So, basically 'execute' is the right verb to remember for data manipulation both in R and in Python."
   ]
  },
  {
   "cell_type": "markdown",
   "metadata": {},
   "source": [
    "3 Synthetic queries"
   ]
  },
  {
   "cell_type": "markdown",
   "metadata": {},
   "source": [
    "They totally insist on using wildcards in queries and NEVER to use string algebra for making a text of a compound query programmatically. The examples are:"
   ]
  },
  {
   "cell_type": "code",
   "execution_count": 4,
   "metadata": {
    "scrolled": true
   },
   "outputs": [
    {
     "name": "stdout",
     "output_type": "stream",
     "text": [
      "('2006-01-05', 'BUY', 'RHAT', 100.0, 35.14)\n"
     ]
    }
   ],
   "source": [
    "# fetching one line\n",
    "\n",
    "import sqlite3      #loading the library\n",
    "\n",
    "db1conn = sqlite3.connect('F:/sqlite_databases/dabase.sqlite') # establish a connection\n",
    "c = db1conn.cursor() # create a cursor\n",
    "\n",
    "t = ('RHAT',)  #assigning a value to a parameter\n",
    "c.execute('SELECT * FROM stocks WHERE symbol=?', t) # substitute instead of the wildcard\n",
    "print(c.fetchone())\n",
    "\n",
    "db1conn.close() # close the connection"
   ]
  },
  {
   "cell_type": "markdown",
   "metadata": {},
   "source": [
    "Works"
   ]
  },
  {
   "cell_type": "code",
   "execution_count": 12,
   "metadata": {
    "collapsed": true
   },
   "outputs": [],
   "source": [
    "# adding multiple lines\n",
    "\n",
    "import sqlite3      #loading the library\n",
    "\n",
    "db1conn = sqlite3.connect('F:/sqlite_databases/dabase.sqlite') # establish a connection\n",
    "c = db1conn.cursor() # create a cursor\n",
    "\n",
    "purchases = [('2006-03-28', 'BUY', 'IBM', 1000, 45.00),\n",
    "             ('2006-04-05', 'BUY', 'MSFT', 1000, 72.00),\n",
    "             ('2006-04-06', 'SELL', 'IBM', 500, 53.00),\n",
    "            ]\n",
    "c.executemany('INSERT INTO stocks VALUES (?,?,?,?,?)', purchases)\n",
    "\n",
    "db1conn.commit() # commit the changes to the connection\n",
    "\n",
    "db1conn.close() # close the connection"
   ]
  },
  {
   "cell_type": "code",
   "execution_count": 13,
   "metadata": {},
   "outputs": [
    {
     "name": "stdout",
     "output_type": "stream",
     "text": [
      "[('2006-01-05', 'BUY', 'RHAT', 100.0, 35.14), ('2006-03-28', 'BUY', 'IBM', 1000.0, 45.0), ('2006-04-06', 'SELL', 'IBM', 500.0, 53.0), ('2006-04-05', 'BUY', 'MSFT', 1000.0, 72.0)]\n"
     ]
    }
   ],
   "source": [
    "# retrieving multiple lines\n",
    "\n",
    "import sqlite3      #loading the library\n",
    "\n",
    "db1conn = sqlite3.connect('F:/sqlite_databases/dabase.sqlite') # establish a connection\n",
    "c = db1conn.cursor() # create a cursor\n",
    "\n",
    "c.execute('SELECT * FROM stocks ORDER BY price')\n",
    "\n",
    "df = c.fetchall()\n",
    "\n",
    "print(df)\n",
    "\n",
    "db1conn.close() # close the connection"
   ]
  }
 ],
 "metadata": {
  "kernelspec": {
   "display_name": "Python 3",
   "language": "python",
   "name": "python3"
  },
  "language_info": {
   "codemirror_mode": {
    "name": "ipython",
    "version": 3
   },
   "file_extension": ".py",
   "mimetype": "text/x-python",
   "name": "python",
   "nbconvert_exporter": "python",
   "pygments_lexer": "ipython3",
   "version": "3.6.1"
  }
 },
 "nbformat": 4,
 "nbformat_minor": 2
}
